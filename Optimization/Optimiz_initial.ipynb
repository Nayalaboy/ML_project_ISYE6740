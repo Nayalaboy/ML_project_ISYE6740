{
 "cells": [
  {
   "cell_type": "code",
   "execution_count": 25,
   "metadata": {},
   "outputs": [],
   "source": [
    "## imports\n",
    "import pandas as pd\n",
    "import numpy as np\n",
    "from pulp import *\n",
    "import os"
   ]
  },
  {
   "cell_type": "code",
   "execution_count": 26,
   "metadata": {},
   "outputs": [],
   "source": [
    "##Load datasets\n",
    "\n",
    "# Change the working directory to the notebook's directory\n",
    "notebook_dir = \"C:\\\\Users\\\\Anu Zan\\\\Desktop\\\\GeorgiaTech Spring 2024\\\\ISYE 6740 CDA\\\\project\"\n",
    "os.chdir(notebook_dir)\n",
    "\n",
    "# Now, define the relative path to the dataset\n",
    "dataset_path = os.path.join(\"..\", \"Dataset\")\n",
    "\n",
    "Household_dataset=pd.read_csv(os.path.join(dataset_path, \"SampleOptimizationHouseholdData_02142024.csv\"))\n",
    "Intervention_dataset=pd.read_csv(os.path.join(dataset_path,\"SampleOptimizationInterventionData_02142024.csv\"))\n",
    "\n",
    "#removed last column(P_NOTX) since it does not appear in the intervention dataset\n",
    "Household_dataset=Household_dataset.iloc[:, :-1]"
   ]
  },
  {
   "cell_type": "code",
   "execution_count": 27,
   "metadata": {},
   "outputs": [],
   "source": [
    "## Data cleaning and conversions\n",
    "Household_dataset['intervention_eligibility_start'] = pd.to_datetime(Household_dataset['intervention_eligibility_start'])\n",
    "Household_dataset['intervention_eligibility_end'] = pd.to_datetime(Household_dataset['intervention_eligibility_end'])\n",
    "Intervention_dataset['MoveInDate'] = pd.to_datetime(Intervention_dataset['MoveInDate'])\n"
   ]
  },
  {
   "cell_type": "code",
   "execution_count": null,
   "metadata": {},
   "outputs": [],
   "source": []
  },
  {
   "cell_type": "code",
   "execution_count": 28,
   "metadata": {},
   "outputs": [],
   "source": [
    "project_type_mapping = {\n",
    "    'PH - Rapid Re-Housing': 'RRH',\n",
    "    'PH - Permanent Supportive Housing': 'PSH',\n",
    "    'Transitional Housing': 'TSH'  }"
   ]
  },
  {
   "cell_type": "code",
   "execution_count": 29,
   "metadata": {},
   "outputs": [],
   "source": [
    "intervention_types = list(project_type_mapping.values())\n",
    "Household_dataset['ID'] = Household_dataset['ID'].astype(str)"
   ]
  },
  {
   "cell_type": "code",
   "execution_count": 30,
   "metadata": {},
   "outputs": [],
   "source": [
    "# Pre-calculate probabilities for each household and intervention type\n",
    "probabilities = {}\n",
    "for _, row in Household_dataset.iterrows():\n",
    "    household_id = row['ID']\n",
    "    for description, abbreviation in project_type_mapping.items():\n",
    "        prob_column = f'P_{abbreviation}'\n",
    "        if prob_column in Household_dataset.columns:\n",
    "            probabilities[(household_id, abbreviation)] = row[prob_column]\n",
    "        else:\n",
    "            print(f\"Warning: Column {prob_column} does not exist in Household_dataset.\")\n"
   ]
  },
  {
   "cell_type": "code",
   "execution_count": 31,
   "metadata": {},
   "outputs": [],
   "source": [
    "problem = LpProblem(\"Maximize_exiting_homelessness\", LpMaximize)"
   ]
  },
  {
   "cell_type": "code",
   "execution_count": 32,
   "metadata": {},
   "outputs": [],
   "source": [
    "# Extract household IDs and intervention types\n",
    "household_ids = Household_dataset['ID'].unique()\n",
    "intervention_types = list(project_type_mapping.values())\n"
   ]
  },
  {
   "cell_type": "code",
   "execution_count": 33,
   "metadata": {},
   "outputs": [],
   "source": [
    "# Decision variables\n",
    "x = LpVariable.dicts(\"assignment\", (household_ids, intervention_types), cat='Binary')\n",
    "\n",
    "#here I add a constraint saying that each intervention type have a capacity of 10\n",
    "intervention_limits = {intervention_type: 10 for intervention_type in intervention_types}\n"
   ]
  },
  {
   "cell_type": "code",
   "execution_count": 34,
   "metadata": {},
   "outputs": [],
   "source": [
    "\n",
    "# The objective function\n",
    "problem += lpSum([x[household_id][intervention_type] * probabilities[(household_id, intervention_type)]\n",
    "                  for household_id in household_ids for intervention_type in intervention_types])\n"
   ]
  },
  {
   "cell_type": "code",
   "execution_count": 35,
   "metadata": {},
   "outputs": [],
   "source": [
    "# Add constraints for intervention limits\n",
    "for intervention_type in intervention_types:\n",
    "    problem += lpSum(x[household_id][intervention_type] for household_id in household_ids) <= intervention_limits[intervention_type]\n"
   ]
  },
  {
   "cell_type": "code",
   "execution_count": 36,
   "metadata": {},
   "outputs": [
    {
     "name": "stdout",
     "output_type": "stream",
     "text": [
      "Solution Status: Optimal\n"
     ]
    }
   ],
   "source": [
    "status = problem.solve()\n",
    "\n",
    "# Check the status of the solution\n",
    "print(f\"Solution Status: {LpStatus[status]}\")\n"
   ]
  },
  {
   "cell_type": "code",
   "execution_count": 37,
   "metadata": {},
   "outputs": [
    {
     "name": "stdout",
     "output_type": "stream",
     "text": [
      "Household 11550 is assigned to PSH\n",
      "Household 11491 is assigned to PSH\n",
      "Household 7104 is assigned to TSH\n",
      "Household 4815 is assigned to TSH\n",
      "Household 5433 is assigned to TSH\n",
      "Household 4342 is assigned to TSH\n",
      "Household 1170 is assigned to RRH\n",
      "Household 3842 is assigned to RRH\n",
      "Household 7275 is assigned to RRH\n",
      "Household 3436 is assigned to RRH\n"
     ]
    }
   ],
   "source": [
    "# Output the assignment decisions (example: print the first 10 decisions)\n",
    "sample_count = 0\n",
    "max_samples = 10\n",
    "for household_id in household_ids:\n",
    "    for intervention_type in intervention_types:\n",
    "        if x[household_id][intervention_type].value() == 1:\n",
    "            print(f\"Household {household_id} is assigned to {intervention_type}\")\n",
    "            sample_count += 1\n",
    "            if sample_count >= max_samples:\n",
    "                break\n",
    "    if sample_count >= max_samples:\n",
    "        break"
   ]
  },
  {
   "cell_type": "code",
   "execution_count": null,
   "metadata": {},
   "outputs": [],
   "source": []
  }
 ],
 "metadata": {
  "kernelspec": {
   "display_name": "base",
   "language": "python",
   "name": "python3"
  },
  "language_info": {
   "codemirror_mode": {
    "name": "ipython",
    "version": 3
   },
   "file_extension": ".py",
   "mimetype": "text/x-python",
   "name": "python",
   "nbconvert_exporter": "python",
   "pygments_lexer": "ipython3",
   "version": "3.12.2"
  }
 },
 "nbformat": 4,
 "nbformat_minor": 2
}
